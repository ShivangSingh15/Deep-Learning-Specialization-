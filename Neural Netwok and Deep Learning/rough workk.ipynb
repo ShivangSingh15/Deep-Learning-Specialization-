{
 "cells": [
  {
   "cell_type": "code",
   "execution_count": 3,
   "id": "8e089fed",
   "metadata": {},
   "outputs": [],
   "source": [
    "import numpy as np"
   ]
  },
  {
   "cell_type": "code",
   "execution_count": 4,
   "id": "8fdc60d0",
   "metadata": {},
   "outputs": [],
   "source": [
    "x = np.array([[1,2,3,\n",
    "              4,5,6,\n",
    "              7,8,9]])"
   ]
  },
  {
   "cell_type": "code",
   "execution_count": 5,
   "id": "e6b9fc7f",
   "metadata": {},
   "outputs": [
    {
     "data": {
      "text/plain": [
       "(1, 9)"
      ]
     },
     "execution_count": 5,
     "metadata": {},
     "output_type": "execute_result"
    }
   ],
   "source": [
    "x.shape"
   ]
  },
  {
   "cell_type": "code",
   "execution_count": 8,
   "id": "7be76f9f",
   "metadata": {},
   "outputs": [
    {
     "name": "stdout",
     "output_type": "stream",
     "text": [
      "9\n"
     ]
    }
   ],
   "source": [
    "print(x.shape[1])"
   ]
  },
  {
   "cell_type": "code",
   "execution_count": 9,
   "id": "1402df70",
   "metadata": {},
   "outputs": [],
   "source": [
    "dic = {\"1\":10, \"2\":20}"
   ]
  },
  {
   "cell_type": "code",
   "execution_count": 11,
   "id": "93513ffe",
   "metadata": {},
   "outputs": [
    {
     "data": {
      "text/plain": [
       "10"
      ]
     },
     "execution_count": 11,
     "metadata": {},
     "output_type": "execute_result"
    }
   ],
   "source": [
    "dic[\"1\"]"
   ]
  },
  {
   "cell_type": "code",
   "execution_count": 13,
   "id": "0c44064b",
   "metadata": {},
   "outputs": [
    {
     "name": "stdout",
     "output_type": "stream",
     "text": [
      "None\n"
     ]
    }
   ],
   "source": [
    "print(np.random.seed(3))"
   ]
  },
  {
   "cell_type": "code",
   "execution_count": null,
   "id": "661ce362",
   "metadata": {},
   "outputs": [],
   "source": []
  }
 ],
 "metadata": {
  "kernelspec": {
   "display_name": "Python 3 (ipykernel)",
   "language": "python",
   "name": "python3"
  },
  "language_info": {
   "codemirror_mode": {
    "name": "ipython",
    "version": 3
   },
   "file_extension": ".py",
   "mimetype": "text/x-python",
   "name": "python",
   "nbconvert_exporter": "python",
   "pygments_lexer": "ipython3",
   "version": "3.9.7"
  }
 },
 "nbformat": 4,
 "nbformat_minor": 5
}
